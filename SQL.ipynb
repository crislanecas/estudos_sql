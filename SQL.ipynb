{
  "nbformat": 4,
  "nbformat_minor": 0,
  "metadata": {
    "colab": {
      "provenance": [],
      "toc_visible": true,
      "authorship_tag": "ABX9TyNR4u7B8C0wvxKQpTrEIyyb",
      "include_colab_link": true
    },
    "kernelspec": {
      "name": "python3",
      "display_name": "Python 3"
    },
    "language_info": {
      "name": "python"
    }
  },
  "cells": [
    {
      "cell_type": "markdown",
      "metadata": {
        "id": "view-in-github",
        "colab_type": "text"
      },
      "source": [
        "<a href=\"https://colab.research.google.com/github/crislanecas/estudos_sql/blob/main/SQL.ipynb\" target=\"_parent\"><img src=\"https://colab.research.google.com/assets/colab-badge.svg\" alt=\"Open In Colab\"/></a>"
      ]
    },
    {
      "cell_type": "code",
      "execution_count": null,
      "metadata": {
        "id": "y5y8-Ofy3vdv"
      },
      "outputs": [],
      "source": [
        "!pip install ipython-sql"
      ]
    },
    {
      "cell_type": "code",
      "source": [
        "%load_ext sql"
      ],
      "metadata": {
        "id": "x1G9LuvN36Fs"
      },
      "execution_count": 2,
      "outputs": []
    },
    {
      "cell_type": "code",
      "source": [
        "# %sql sqlite://"
      ],
      "metadata": {
        "id": "op5lNK_137YX"
      },
      "execution_count": null,
      "outputs": []
    },
    {
      "cell_type": "code",
      "source": [
        "%sql sqlite:///mydb.db"
      ],
      "metadata": {
        "id": "2Q5il9F55qUa"
      },
      "execution_count": 3,
      "outputs": []
    },
    {
      "cell_type": "code",
      "source": [
        "%%sql\n",
        "\n",
        "-- Cria a tabela CLIENTE:\n",
        "\n",
        "CREATE TABLE CLIENTE (\n",
        "    CLIENTE_ID INTEGER PRIMARY KEY,\n",
        "    NOME TEXT NOT NULL,\n",
        "    EMAIL TEXT NOT NULL UNIQUE,\n",
        "    TELEFONE TEXT NOT NULL UNIQUE\n",
        ");"
      ],
      "metadata": {
        "colab": {
          "base_uri": "https://localhost:8080/"
        },
        "id": "CyN8AFlz5vYC",
        "outputId": "feef4fc7-7e86-4d5b-fcac-4846e6270639"
      },
      "execution_count": 4,
      "outputs": [
        {
          "output_type": "stream",
          "name": "stdout",
          "text": [
            " * sqlite:///mydb.db\n",
            "Done.\n"
          ]
        },
        {
          "output_type": "execute_result",
          "data": {
            "text/plain": [
              "[]"
            ]
          },
          "metadata": {},
          "execution_count": 4
        }
      ]
    },
    {
      "cell_type": "code",
      "source": [
        "%sql SELECT * FROM CLIENTE;"
      ],
      "metadata": {
        "colab": {
          "base_uri": "https://localhost:8080/",
          "height": 74
        },
        "id": "h9RAhGK03_ts",
        "outputId": "890d748d-9e91-41a4-91d9-4b7a2dfddc74"
      },
      "execution_count": 6,
      "outputs": [
        {
          "output_type": "stream",
          "name": "stdout",
          "text": [
            " * sqlite:///mydb.db\n",
            "Done.\n"
          ]
        },
        {
          "output_type": "execute_result",
          "data": {
            "text/plain": [
              "[]"
            ],
            "text/html": [
              "<table>\n",
              "    <thead>\n",
              "        <tr>\n",
              "            <th>CLIENTE_ID</th>\n",
              "            <th>NOME</th>\n",
              "            <th>EMAIL</th>\n",
              "            <th>TELEFONE</th>\n",
              "        </tr>\n",
              "    </thead>\n",
              "    <tbody>\n",
              "    </tbody>\n",
              "</table>"
            ]
          },
          "metadata": {},
          "execution_count": 6
        }
      ]
    },
    {
      "cell_type": "code",
      "source": [
        "%%sql\n",
        "\n",
        "-- Insere dados na tabela CLIENTE\n",
        "\n",
        "INSERT INTO CLIENTE (NOME, EMAIL, TELEFONE)\n",
        "VALUES\n",
        "    ('Leonardo' , 'leonardo@gmail.com', '9999-9999' ),\n",
        "    ('Rafael' , 'rafael@gmail.com', '9889-8998' ),\n",
        "    ('Michelangelo' , 'michelangelo@gmail.com', '9997-7999' ),\n",
        "    ('Donatello' , 'donatello@gmail.com', '9777-7779' );"
      ],
      "metadata": {
        "colab": {
          "base_uri": "https://localhost:8080/"
        },
        "id": "mmkvbPgC6BJ_",
        "outputId": "4552c584-5b22-4b78-e0ef-3a4d769f7546"
      },
      "execution_count": 7,
      "outputs": [
        {
          "output_type": "stream",
          "name": "stdout",
          "text": [
            " * sqlite:///mydb.db\n",
            "4 rows affected.\n"
          ]
        },
        {
          "output_type": "execute_result",
          "data": {
            "text/plain": [
              "[]"
            ]
          },
          "metadata": {},
          "execution_count": 7
        }
      ]
    },
    {
      "cell_type": "code",
      "source": [
        "%%sql\n",
        "\n",
        "-- Consulta os dados da tabela CLIENTE\n",
        "\n",
        "SELECT * FROM CLIENTE"
      ],
      "metadata": {
        "colab": {
          "base_uri": "https://localhost:8080/",
          "height": 158
        },
        "id": "H4ZIr7yA6FX9",
        "outputId": "c888c13c-7bbf-442b-ca3c-8b9d78195d01"
      },
      "execution_count": 8,
      "outputs": [
        {
          "output_type": "stream",
          "name": "stdout",
          "text": [
            " * sqlite:///mydb.db\n",
            "Done.\n"
          ]
        },
        {
          "output_type": "execute_result",
          "data": {
            "text/plain": [
              "[(1, 'Leonardo', 'leonardo@gmail.com', '9999-9999'),\n",
              " (2, 'Rafael', 'rafael@gmail.com', '9889-8998'),\n",
              " (3, 'Michelangelo', 'michelangelo@gmail.com', '9997-7999'),\n",
              " (4, 'Donatello', 'donatello@gmail.com', '9777-7779')]"
            ],
            "text/html": [
              "<table>\n",
              "    <thead>\n",
              "        <tr>\n",
              "            <th>CLIENTE_ID</th>\n",
              "            <th>NOME</th>\n",
              "            <th>EMAIL</th>\n",
              "            <th>TELEFONE</th>\n",
              "        </tr>\n",
              "    </thead>\n",
              "    <tbody>\n",
              "        <tr>\n",
              "            <td>1</td>\n",
              "            <td>Leonardo</td>\n",
              "            <td>leonardo@gmail.com</td>\n",
              "            <td>9999-9999</td>\n",
              "        </tr>\n",
              "        <tr>\n",
              "            <td>2</td>\n",
              "            <td>Rafael</td>\n",
              "            <td>rafael@gmail.com</td>\n",
              "            <td>9889-8998</td>\n",
              "        </tr>\n",
              "        <tr>\n",
              "            <td>3</td>\n",
              "            <td>Michelangelo</td>\n",
              "            <td>michelangelo@gmail.com</td>\n",
              "            <td>9997-7999</td>\n",
              "        </tr>\n",
              "        <tr>\n",
              "            <td>4</td>\n",
              "            <td>Donatello</td>\n",
              "            <td>donatello@gmail.com</td>\n",
              "            <td>9777-7779</td>\n",
              "        </tr>\n",
              "    </tbody>\n",
              "</table>"
            ]
          },
          "metadata": {},
          "execution_count": 8
        }
      ]
    }
  ]
}