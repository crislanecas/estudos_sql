{
  "nbformat": 4,
  "nbformat_minor": 0,
  "metadata": {
    "colab": {
      "provenance": [],
      "authorship_tag": "ABX9TyOGBfsV59N1PdOdRQf2VfuY",
      "include_colab_link": true
    },
    "kernelspec": {
      "name": "python3",
      "display_name": "Python 3"
    },
    "language_info": {
      "name": "python"
    }
  },
  "cells": [
    {
      "cell_type": "markdown",
      "metadata": {
        "id": "view-in-github",
        "colab_type": "text"
      },
      "source": [
        "<a href=\"https://colab.research.google.com/github/crislanecas/estudos_sql/blob/main/SoulCode/03_Olimp%C3%ADadas.ipynb\" target=\"_parent\"><img src=\"https://colab.research.google.com/assets/colab-badge.svg\" alt=\"Open In Colab\"/></a>"
      ]
    },
    {
      "cell_type": "code",
      "execution_count": null,
      "metadata": {
        "id": "SPlhh3KgeSIF"
      },
      "outputs": [],
      "source": [
        "import pandas as pd\n",
        "from sqlalchemy import create_engine\n",
        "\n",
        "# Carrega o arquivo CSV em um DataFrame\n",
        "df = pd.read_csv('/content/olympics_medals.csv')\n",
        "\n",
        "# Cria uma conexão com o SQLite\n",
        "engine = create_engine('sqlite:///olympics_medals.db')\n",
        "\n",
        "# Registra o DataFrame como uma tabela temporária no SQLite\n",
        "df.to_sql('olympics_medals', con=engine, if_exists='replace', index=False)\n",
        "\n",
        "# Carrega a extensão ipython-sql\n",
        "%load_ext sql\n",
        "\n",
        "# Conecta-se ao banco de dados SQLite\n",
        "%sql sqlite:///olympics_medals.db"
      ]
    },
    {
      "cell_type": "code",
      "source": [
        "%%sql\n",
        "\n",
        "PRAGMA table_info(olympics_medals);"
      ],
      "metadata": {
        "colab": {
          "base_uri": "https://localhost:8080/",
          "height": 430
        },
        "id": "AM0SbfwJe5PX",
        "outputId": "c9209adb-0518-473a-fed9-c9ff30f04d28"
      },
      "execution_count": null,
      "outputs": [
        {
          "output_type": "stream",
          "name": "stdout",
          "text": [
            " * sqlite:///olympics_medals.db\n",
            "Done.\n"
          ]
        },
        {
          "output_type": "execute_result",
          "data": {
            "text/plain": [
              "[(0, 'countries', 'TEXT', 0, None, 0),\n",
              " (1, 'ioc_code', 'TEXT', 0, None, 0),\n",
              " (2, 'summer_participations', 'BIGINT', 0, None, 0),\n",
              " (3, 'summer_gold', 'BIGINT', 0, None, 0),\n",
              " (4, 'summer_silver', 'BIGINT', 0, None, 0),\n",
              " (5, 'summer_bronze', 'BIGINT', 0, None, 0),\n",
              " (6, 'summer_total', 'BIGINT', 0, None, 0),\n",
              " (7, 'winter_participations', 'BIGINT', 0, None, 0),\n",
              " (8, 'winter_gold', 'BIGINT', 0, None, 0),\n",
              " (9, 'winter_silver', 'BIGINT', 0, None, 0),\n",
              " (10, 'winter_bronze', 'BIGINT', 0, None, 0),\n",
              " (11, 'winter_total', 'BIGINT', 0, None, 0),\n",
              " (12, 'total_participation', 'BIGINT', 0, None, 0),\n",
              " (13, 'total_gold', 'BIGINT', 0, None, 0),\n",
              " (14, 'total_silver', 'BIGINT', 0, None, 0),\n",
              " (15, 'total_bronze', 'BIGINT', 0, None, 0),\n",
              " (16, 'total_total', 'BIGINT', 0, None, 0)]"
            ],
            "text/html": [
              "<table>\n",
              "    <thead>\n",
              "        <tr>\n",
              "            <th>cid</th>\n",
              "            <th>name</th>\n",
              "            <th>type</th>\n",
              "            <th>notnull</th>\n",
              "            <th>dflt_value</th>\n",
              "            <th>pk</th>\n",
              "        </tr>\n",
              "    </thead>\n",
              "    <tbody>\n",
              "        <tr>\n",
              "            <td>0</td>\n",
              "            <td>countries</td>\n",
              "            <td>TEXT</td>\n",
              "            <td>0</td>\n",
              "            <td>None</td>\n",
              "            <td>0</td>\n",
              "        </tr>\n",
              "        <tr>\n",
              "            <td>1</td>\n",
              "            <td>ioc_code</td>\n",
              "            <td>TEXT</td>\n",
              "            <td>0</td>\n",
              "            <td>None</td>\n",
              "            <td>0</td>\n",
              "        </tr>\n",
              "        <tr>\n",
              "            <td>2</td>\n",
              "            <td>summer_participations</td>\n",
              "            <td>BIGINT</td>\n",
              "            <td>0</td>\n",
              "            <td>None</td>\n",
              "            <td>0</td>\n",
              "        </tr>\n",
              "        <tr>\n",
              "            <td>3</td>\n",
              "            <td>summer_gold</td>\n",
              "            <td>BIGINT</td>\n",
              "            <td>0</td>\n",
              "            <td>None</td>\n",
              "            <td>0</td>\n",
              "        </tr>\n",
              "        <tr>\n",
              "            <td>4</td>\n",
              "            <td>summer_silver</td>\n",
              "            <td>BIGINT</td>\n",
              "            <td>0</td>\n",
              "            <td>None</td>\n",
              "            <td>0</td>\n",
              "        </tr>\n",
              "        <tr>\n",
              "            <td>5</td>\n",
              "            <td>summer_bronze</td>\n",
              "            <td>BIGINT</td>\n",
              "            <td>0</td>\n",
              "            <td>None</td>\n",
              "            <td>0</td>\n",
              "        </tr>\n",
              "        <tr>\n",
              "            <td>6</td>\n",
              "            <td>summer_total</td>\n",
              "            <td>BIGINT</td>\n",
              "            <td>0</td>\n",
              "            <td>None</td>\n",
              "            <td>0</td>\n",
              "        </tr>\n",
              "        <tr>\n",
              "            <td>7</td>\n",
              "            <td>winter_participations</td>\n",
              "            <td>BIGINT</td>\n",
              "            <td>0</td>\n",
              "            <td>None</td>\n",
              "            <td>0</td>\n",
              "        </tr>\n",
              "        <tr>\n",
              "            <td>8</td>\n",
              "            <td>winter_gold</td>\n",
              "            <td>BIGINT</td>\n",
              "            <td>0</td>\n",
              "            <td>None</td>\n",
              "            <td>0</td>\n",
              "        </tr>\n",
              "        <tr>\n",
              "            <td>9</td>\n",
              "            <td>winter_silver</td>\n",
              "            <td>BIGINT</td>\n",
              "            <td>0</td>\n",
              "            <td>None</td>\n",
              "            <td>0</td>\n",
              "        </tr>\n",
              "        <tr>\n",
              "            <td>10</td>\n",
              "            <td>winter_bronze</td>\n",
              "            <td>BIGINT</td>\n",
              "            <td>0</td>\n",
              "            <td>None</td>\n",
              "            <td>0</td>\n",
              "        </tr>\n",
              "        <tr>\n",
              "            <td>11</td>\n",
              "            <td>winter_total</td>\n",
              "            <td>BIGINT</td>\n",
              "            <td>0</td>\n",
              "            <td>None</td>\n",
              "            <td>0</td>\n",
              "        </tr>\n",
              "        <tr>\n",
              "            <td>12</td>\n",
              "            <td>total_participation</td>\n",
              "            <td>BIGINT</td>\n",
              "            <td>0</td>\n",
              "            <td>None</td>\n",
              "            <td>0</td>\n",
              "        </tr>\n",
              "        <tr>\n",
              "            <td>13</td>\n",
              "            <td>total_gold</td>\n",
              "            <td>BIGINT</td>\n",
              "            <td>0</td>\n",
              "            <td>None</td>\n",
              "            <td>0</td>\n",
              "        </tr>\n",
              "        <tr>\n",
              "            <td>14</td>\n",
              "            <td>total_silver</td>\n",
              "            <td>BIGINT</td>\n",
              "            <td>0</td>\n",
              "            <td>None</td>\n",
              "            <td>0</td>\n",
              "        </tr>\n",
              "        <tr>\n",
              "            <td>15</td>\n",
              "            <td>total_bronze</td>\n",
              "            <td>BIGINT</td>\n",
              "            <td>0</td>\n",
              "            <td>None</td>\n",
              "            <td>0</td>\n",
              "        </tr>\n",
              "        <tr>\n",
              "            <td>16</td>\n",
              "            <td>total_total</td>\n",
              "            <td>BIGINT</td>\n",
              "            <td>0</td>\n",
              "            <td>None</td>\n",
              "            <td>0</td>\n",
              "        </tr>\n",
              "    </tbody>\n",
              "</table>"
            ]
          },
          "metadata": {},
          "execution_count": 2
        }
      ]
    },
    {
      "cell_type": "code",
      "source": [
        "%%sql\n",
        "\n",
        "-- Qual o país com mais medalhas em geral?\n",
        "SELECT\n",
        "  countries,\n",
        "  SUM (total_total) AS total_total_medalhas\n",
        "FROM olympics_medals\n",
        "GROUP BY countries\n",
        "ORDER BY total_total_medalhas DESC\n",
        "LIMIT 5;"
      ],
      "metadata": {
        "colab": {
          "base_uri": "https://localhost:8080/",
          "height": 179
        },
        "id": "YZ4JNVg_erUO",
        "outputId": "02c05704-aaaf-4485-c680-19bc00991290"
      },
      "execution_count": null,
      "outputs": [
        {
          "output_type": "stream",
          "name": "stdout",
          "text": [
            " * sqlite:///olympics_medals.db\n",
            "Done.\n"
          ]
        },
        {
          "output_type": "execute_result",
          "data": {
            "text/plain": [
              "[('United States', 2959),\n",
              " ('Soviet Union', 1204),\n",
              " ('Great Britain', 950),\n",
              " ('Germany', 922),\n",
              " ('France', 889)]"
            ],
            "text/html": [
              "<table>\n",
              "    <thead>\n",
              "        <tr>\n",
              "            <th>countries</th>\n",
              "            <th>total_total_medalhas</th>\n",
              "        </tr>\n",
              "    </thead>\n",
              "    <tbody>\n",
              "        <tr>\n",
              "            <td>United States</td>\n",
              "            <td>2959</td>\n",
              "        </tr>\n",
              "        <tr>\n",
              "            <td>Soviet Union</td>\n",
              "            <td>1204</td>\n",
              "        </tr>\n",
              "        <tr>\n",
              "            <td>Great Britain</td>\n",
              "            <td>950</td>\n",
              "        </tr>\n",
              "        <tr>\n",
              "            <td>Germany</td>\n",
              "            <td>922</td>\n",
              "        </tr>\n",
              "        <tr>\n",
              "            <td>France</td>\n",
              "            <td>889</td>\n",
              "        </tr>\n",
              "    </tbody>\n",
              "</table>"
            ]
          },
          "metadata": {},
          "execution_count": 4
        }
      ]
    },
    {
      "cell_type": "code",
      "source": [
        "%%sql\n",
        "\n",
        "-- Qual o país com mais medalhas de verão?\n",
        "SELECT\n",
        "  countries,\n",
        "  SUM (summer_total) AS summer_total_medalhas\n",
        "FROM olympics_medals\n",
        "GROUP BY countries\n",
        "ORDER BY summer_total_medalhas DESC\n",
        "LIMIT 5;"
      ],
      "metadata": {
        "colab": {
          "base_uri": "https://localhost:8080/",
          "height": 179
        },
        "id": "Afkg3jzbBHgd",
        "outputId": "10fb75cb-7bb9-4e84-a88e-c390e642c3b6"
      },
      "execution_count": null,
      "outputs": [
        {
          "output_type": "stream",
          "name": "stdout",
          "text": [
            " * sqlite:///olympics_medals.db\n",
            "Done.\n"
          ]
        },
        {
          "output_type": "execute_result",
          "data": {
            "text/plain": [
              "[('United States', 2629),\n",
              " ('Soviet Union', 1010),\n",
              " ('Great Britain', 916),\n",
              " ('France', 751),\n",
              " ('Germany', 655)]"
            ],
            "text/html": [
              "<table>\n",
              "    <thead>\n",
              "        <tr>\n",
              "            <th>countries</th>\n",
              "            <th>summer_total_medalhas</th>\n",
              "        </tr>\n",
              "    </thead>\n",
              "    <tbody>\n",
              "        <tr>\n",
              "            <td>United States</td>\n",
              "            <td>2629</td>\n",
              "        </tr>\n",
              "        <tr>\n",
              "            <td>Soviet Union</td>\n",
              "            <td>1010</td>\n",
              "        </tr>\n",
              "        <tr>\n",
              "            <td>Great Britain</td>\n",
              "            <td>916</td>\n",
              "        </tr>\n",
              "        <tr>\n",
              "            <td>France</td>\n",
              "            <td>751</td>\n",
              "        </tr>\n",
              "        <tr>\n",
              "            <td>Germany</td>\n",
              "            <td>655</td>\n",
              "        </tr>\n",
              "    </tbody>\n",
              "</table>"
            ]
          },
          "metadata": {},
          "execution_count": 5
        }
      ]
    },
    {
      "cell_type": "code",
      "source": [
        "%%sql\n",
        "\n",
        "-- Qual o país com mais medalhas de inverno?\n",
        "SELECT\n",
        "  countries,\n",
        "  SUM (winter_total) AS winter_total_medalhas\n",
        "FROM olympics_medals\n",
        "GROUP BY countries\n",
        "ORDER BY winter_total_medalhas DESC\n",
        "LIMIT 5;"
      ],
      "metadata": {
        "colab": {
          "base_uri": "https://localhost:8080/",
          "height": 179
        },
        "id": "N6HZgcSNBIw9",
        "outputId": "6fc1929f-bee3-475b-86b1-fa2ce3cb85a8"
      },
      "execution_count": null,
      "outputs": [
        {
          "output_type": "stream",
          "name": "stdout",
          "text": [
            " * sqlite:///olympics_medals.db\n",
            "Done.\n"
          ]
        },
        {
          "output_type": "execute_result",
          "data": {
            "text/plain": [
              "[('Norway', 405),\n",
              " ('United States', 330),\n",
              " ('Germany', 267),\n",
              " ('Austria', 250),\n",
              " ('Canada', 225)]"
            ],
            "text/html": [
              "<table>\n",
              "    <thead>\n",
              "        <tr>\n",
              "            <th>countries</th>\n",
              "            <th>winter_total_medalhas</th>\n",
              "        </tr>\n",
              "    </thead>\n",
              "    <tbody>\n",
              "        <tr>\n",
              "            <td>Norway</td>\n",
              "            <td>405</td>\n",
              "        </tr>\n",
              "        <tr>\n",
              "            <td>United States</td>\n",
              "            <td>330</td>\n",
              "        </tr>\n",
              "        <tr>\n",
              "            <td>Germany</td>\n",
              "            <td>267</td>\n",
              "        </tr>\n",
              "        <tr>\n",
              "            <td>Austria</td>\n",
              "            <td>250</td>\n",
              "        </tr>\n",
              "        <tr>\n",
              "            <td>Canada</td>\n",
              "            <td>225</td>\n",
              "        </tr>\n",
              "    </tbody>\n",
              "</table>"
            ]
          },
          "metadata": {},
          "execution_count": 6
        }
      ]
    },
    {
      "cell_type": "code",
      "source": [
        "%%sql\n",
        "\n",
        "-- Qual o país com mais medalhas de ouro?\n",
        "SELECT\n",
        "  countries,\n",
        "  SUM (total_gold) AS total_gold_medalhas\n",
        "FROM olympics_medals\n",
        "GROUP BY countries\n",
        "ORDER BY total_gold_medalhas DESC\n",
        "LIMIT 5;"
      ],
      "metadata": {
        "colab": {
          "base_uri": "https://localhost:8080/",
          "height": 179
        },
        "id": "4vV_u5OvBJTX",
        "outputId": "9e27b56f-5cac-476e-da9c-75829d350f5a"
      },
      "execution_count": null,
      "outputs": [
        {
          "output_type": "stream",
          "name": "stdout",
          "text": [
            " * sqlite:///olympics_medals.db\n",
            "Done.\n"
          ]
        },
        {
          "output_type": "execute_result",
          "data": {
            "text/plain": [
              "[('United States', 1173),\n",
              " ('Soviet Union', 473),\n",
              " ('Germany', 305),\n",
              " ('Great Britain', 296),\n",
              " ('China', 284)]"
            ],
            "text/html": [
              "<table>\n",
              "    <thead>\n",
              "        <tr>\n",
              "            <th>countries</th>\n",
              "            <th>total_gold_medalhas</th>\n",
              "        </tr>\n",
              "    </thead>\n",
              "    <tbody>\n",
              "        <tr>\n",
              "            <td>United States</td>\n",
              "            <td>1173</td>\n",
              "        </tr>\n",
              "        <tr>\n",
              "            <td>Soviet Union</td>\n",
              "            <td>473</td>\n",
              "        </tr>\n",
              "        <tr>\n",
              "            <td>Germany</td>\n",
              "            <td>305</td>\n",
              "        </tr>\n",
              "        <tr>\n",
              "            <td>Great Britain</td>\n",
              "            <td>296</td>\n",
              "        </tr>\n",
              "        <tr>\n",
              "            <td>China</td>\n",
              "            <td>284</td>\n",
              "        </tr>\n",
              "    </tbody>\n",
              "</table>"
            ]
          },
          "metadata": {},
          "execution_count": 7
        }
      ]
    },
    {
      "cell_type": "code",
      "source": [
        "%%sql\n",
        "\n",
        "-- Qual o país com mais participações?\n",
        "SELECT\n",
        "  countries,\n",
        "  SUM (total_participation) AS total_participation_medalhas\n",
        "FROM olympics_medals\n",
        "GROUP BY countries\n",
        "ORDER BY total_participation_medalhas DESC\n",
        "LIMIT 5;"
      ],
      "metadata": {
        "colab": {
          "base_uri": "https://localhost:8080/",
          "height": 179
        },
        "id": "XaMIuh69BJ1U",
        "outputId": "d56a7f7a-ba02-4929-9572-4d63c67b7901"
      },
      "execution_count": null,
      "outputs": [
        {
          "output_type": "stream",
          "name": "stdout",
          "text": [
            " * sqlite:///olympics_medals.db\n",
            "Done.\n"
          ]
        },
        {
          "output_type": "execute_result",
          "data": {
            "text/plain": [
              "[('Switzerland', 53),\n",
              " ('Great Britain', 53),\n",
              " ('France', 53),\n",
              " ('United States', 52),\n",
              " ('Sweden', 52)]"
            ],
            "text/html": [
              "<table>\n",
              "    <thead>\n",
              "        <tr>\n",
              "            <th>countries</th>\n",
              "            <th>total_participation_medalhas</th>\n",
              "        </tr>\n",
              "    </thead>\n",
              "    <tbody>\n",
              "        <tr>\n",
              "            <td>Switzerland</td>\n",
              "            <td>53</td>\n",
              "        </tr>\n",
              "        <tr>\n",
              "            <td>Great Britain</td>\n",
              "            <td>53</td>\n",
              "        </tr>\n",
              "        <tr>\n",
              "            <td>France</td>\n",
              "            <td>53</td>\n",
              "        </tr>\n",
              "        <tr>\n",
              "            <td>United States</td>\n",
              "            <td>52</td>\n",
              "        </tr>\n",
              "        <tr>\n",
              "            <td>Sweden</td>\n",
              "            <td>52</td>\n",
              "        </tr>\n",
              "    </tbody>\n",
              "</table>"
            ]
          },
          "metadata": {},
          "execution_count": 8
        }
      ]
    }
  ]
}