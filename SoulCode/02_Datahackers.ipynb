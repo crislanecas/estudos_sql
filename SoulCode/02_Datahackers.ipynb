{
  "nbformat": 4,
  "nbformat_minor": 0,
  "metadata": {
    "colab": {
      "provenance": [],
      "authorship_tag": "ABX9TyOV0pprMv2OCmbFVH2NJref",
      "include_colab_link": true
    },
    "kernelspec": {
      "name": "python3",
      "display_name": "Python 3"
    },
    "language_info": {
      "name": "python"
    }
  },
  "cells": [
    {
      "cell_type": "markdown",
      "metadata": {
        "id": "view-in-github",
        "colab_type": "text"
      },
      "source": [
        "<a href=\"https://colab.research.google.com/github/crislanecas/estudos_sql/blob/main/SoulCode/02_Datahackers.ipynb\" target=\"_parent\"><img src=\"https://colab.research.google.com/assets/colab-badge.svg\" alt=\"Open In Colab\"/></a>"
      ]
    },
    {
      "cell_type": "code",
      "source": [
        "import pandas as pd\n",
        "from sqlalchemy import create_engine\n",
        "\n",
        "# Carrega o arquivo CSV em um DataFrame.\n",
        "df = pd.read_csv('/content/datahackers_renomeada.csv')\n",
        "\n",
        "# Cria uma conexão com o SQLite.\n",
        "engine = create_engine('sqlite:///datahackers.db')\n",
        "\n",
        "# Registra o DataFrame como uma tabela temporária no SQLite.\n",
        "df.to_sql('datahackers', con=engine, if_exists='replace', index=False)\n",
        "\n",
        "# Carrega a extensão ipython-sql.\n",
        "%load_ext sql\n",
        "\n",
        "# Conecta-se ao banco de dados SQLite.\n",
        "%sql sqlite:///datahackers.db"
      ],
      "metadata": {
        "id": "QDJgZ6AWZqk_",
        "colab": {
          "base_uri": "https://localhost:8080/"
        },
        "outputId": "609250a1-5820-4a42-f640-b139e26d7fdf"
      },
      "execution_count": null,
      "outputs": [
        {
          "output_type": "stream",
          "name": "stdout",
          "text": [
            "The sql extension is already loaded. To reload it, use:\n",
            "  %reload_ext sql\n"
          ]
        }
      ]
    },
    {
      "cell_type": "code",
      "source": [
        "%%sql\n",
        "\n",
        "PRAGMA table_info(datahackers);"
      ],
      "metadata": {
        "colab": {
          "base_uri": "https://localhost:8080/",
          "height": 389
        },
        "id": "s_4D80hbd4Oe",
        "outputId": "ceacbbf0-99dd-4dfc-f705-fc0d8eb6193c"
      },
      "execution_count": null,
      "outputs": [
        {
          "output_type": "stream",
          "name": "stdout",
          "text": [
            " * sqlite:///datahackers.db\n",
            "Done.\n"
          ]
        },
        {
          "output_type": "execute_result",
          "data": {
            "text/plain": [
              "[(0, 'id', 'TEXT', 0, None, 0),\n",
              " (1, 'idade', 'FLOAT', 0, None, 0),\n",
              " (2, 'faixa_idade', 'TEXT', 0, None, 0),\n",
              " (3, 'genero', 'TEXT', 0, None, 0),\n",
              " (4, 'cor_raca_etnia', 'TEXT', 0, None, 0),\n",
              " (5, 'pcd', 'TEXT', 0, None, 0),\n",
              " (6, 'exp_prof', 'TEXT', 0, None, 0),\n",
              " (7, 'aspectos_prejudicados', 'TEXT', 0, None, 0),\n",
              " (8, 'vive_brasil', 'BOOLEAN', 0, None, 0),\n",
              " (9, 'estado', 'TEXT', 0, None, 0),\n",
              " (10, 'uf', 'TEXT', 0, None, 0),\n",
              " (11, 'regiao', 'TEXT', 0, None, 0),\n",
              " (12, 'mudanca', 'BOOLEAN', 0, None, 0),\n",
              " (13, 'regiao_origem', 'TEXT', 0, None, 0),\n",
              " (14, 'nivel_ensino', 'TEXT', 0, None, 0)]"
            ],
            "text/html": [
              "<table>\n",
              "    <thead>\n",
              "        <tr>\n",
              "            <th>cid</th>\n",
              "            <th>name</th>\n",
              "            <th>type</th>\n",
              "            <th>notnull</th>\n",
              "            <th>dflt_value</th>\n",
              "            <th>pk</th>\n",
              "        </tr>\n",
              "    </thead>\n",
              "    <tbody>\n",
              "        <tr>\n",
              "            <td>0</td>\n",
              "            <td>id</td>\n",
              "            <td>TEXT</td>\n",
              "            <td>0</td>\n",
              "            <td>None</td>\n",
              "            <td>0</td>\n",
              "        </tr>\n",
              "        <tr>\n",
              "            <td>1</td>\n",
              "            <td>idade</td>\n",
              "            <td>FLOAT</td>\n",
              "            <td>0</td>\n",
              "            <td>None</td>\n",
              "            <td>0</td>\n",
              "        </tr>\n",
              "        <tr>\n",
              "            <td>2</td>\n",
              "            <td>faixa_idade</td>\n",
              "            <td>TEXT</td>\n",
              "            <td>0</td>\n",
              "            <td>None</td>\n",
              "            <td>0</td>\n",
              "        </tr>\n",
              "        <tr>\n",
              "            <td>3</td>\n",
              "            <td>genero</td>\n",
              "            <td>TEXT</td>\n",
              "            <td>0</td>\n",
              "            <td>None</td>\n",
              "            <td>0</td>\n",
              "        </tr>\n",
              "        <tr>\n",
              "            <td>4</td>\n",
              "            <td>cor_raca_etnia</td>\n",
              "            <td>TEXT</td>\n",
              "            <td>0</td>\n",
              "            <td>None</td>\n",
              "            <td>0</td>\n",
              "        </tr>\n",
              "        <tr>\n",
              "            <td>5</td>\n",
              "            <td>pcd</td>\n",
              "            <td>TEXT</td>\n",
              "            <td>0</td>\n",
              "            <td>None</td>\n",
              "            <td>0</td>\n",
              "        </tr>\n",
              "        <tr>\n",
              "            <td>6</td>\n",
              "            <td>exp_prof</td>\n",
              "            <td>TEXT</td>\n",
              "            <td>0</td>\n",
              "            <td>None</td>\n",
              "            <td>0</td>\n",
              "        </tr>\n",
              "        <tr>\n",
              "            <td>7</td>\n",
              "            <td>aspectos_prejudicados</td>\n",
              "            <td>TEXT</td>\n",
              "            <td>0</td>\n",
              "            <td>None</td>\n",
              "            <td>0</td>\n",
              "        </tr>\n",
              "        <tr>\n",
              "            <td>8</td>\n",
              "            <td>vive_brasil</td>\n",
              "            <td>BOOLEAN</td>\n",
              "            <td>0</td>\n",
              "            <td>None</td>\n",
              "            <td>0</td>\n",
              "        </tr>\n",
              "        <tr>\n",
              "            <td>9</td>\n",
              "            <td>estado</td>\n",
              "            <td>TEXT</td>\n",
              "            <td>0</td>\n",
              "            <td>None</td>\n",
              "            <td>0</td>\n",
              "        </tr>\n",
              "        <tr>\n",
              "            <td>10</td>\n",
              "            <td>uf</td>\n",
              "            <td>TEXT</td>\n",
              "            <td>0</td>\n",
              "            <td>None</td>\n",
              "            <td>0</td>\n",
              "        </tr>\n",
              "        <tr>\n",
              "            <td>11</td>\n",
              "            <td>regiao</td>\n",
              "            <td>TEXT</td>\n",
              "            <td>0</td>\n",
              "            <td>None</td>\n",
              "            <td>0</td>\n",
              "        </tr>\n",
              "        <tr>\n",
              "            <td>12</td>\n",
              "            <td>mudanca</td>\n",
              "            <td>BOOLEAN</td>\n",
              "            <td>0</td>\n",
              "            <td>None</td>\n",
              "            <td>0</td>\n",
              "        </tr>\n",
              "        <tr>\n",
              "            <td>13</td>\n",
              "            <td>regiao_origem</td>\n",
              "            <td>TEXT</td>\n",
              "            <td>0</td>\n",
              "            <td>None</td>\n",
              "            <td>0</td>\n",
              "        </tr>\n",
              "        <tr>\n",
              "            <td>14</td>\n",
              "            <td>nivel_ensino</td>\n",
              "            <td>TEXT</td>\n",
              "            <td>0</td>\n",
              "            <td>None</td>\n",
              "            <td>0</td>\n",
              "        </tr>\n",
              "    </tbody>\n",
              "</table>"
            ]
          },
          "metadata": {},
          "execution_count": 18
        }
      ]
    },
    {
      "cell_type": "code",
      "source": [
        "%%sql\n",
        "\n",
        "-- Pergunta de Negócio 1: Qual é a distribuição de gênero entre os participantes do estudo?\n",
        "SELECT genero, COUNT(*) AS total_pessoas\n",
        "FROM datahackers\n",
        "GROUP BY genero;"
      ],
      "metadata": {
        "colab": {
          "base_uri": "https://localhost:8080/",
          "height": 158
        },
        "id": "YqCi4B-kaPdL",
        "outputId": "0e528a95-d89a-4075-8166-d2919d2be3d0"
      },
      "execution_count": null,
      "outputs": [
        {
          "output_type": "stream",
          "name": "stdout",
          "text": [
            " * sqlite:///datahackers.db\n",
            "Done.\n"
          ]
        },
        {
          "output_type": "execute_result",
          "data": {
            "text/plain": [
              "[(None, 9),\n",
              " ('Feminino', 1056),\n",
              " ('Masculino', 3194),\n",
              " ('Prefiro não informar', 12)]"
            ],
            "text/html": [
              "<table>\n",
              "    <thead>\n",
              "        <tr>\n",
              "            <th>genero</th>\n",
              "            <th>total_pessoas</th>\n",
              "        </tr>\n",
              "    </thead>\n",
              "    <tbody>\n",
              "        <tr>\n",
              "            <td>None</td>\n",
              "            <td>9</td>\n",
              "        </tr>\n",
              "        <tr>\n",
              "            <td>Feminino</td>\n",
              "            <td>1056</td>\n",
              "        </tr>\n",
              "        <tr>\n",
              "            <td>Masculino</td>\n",
              "            <td>3194</td>\n",
              "        </tr>\n",
              "        <tr>\n",
              "            <td>Prefiro não informar</td>\n",
              "            <td>12</td>\n",
              "        </tr>\n",
              "    </tbody>\n",
              "</table>"
            ]
          },
          "metadata": {},
          "execution_count": 19
        }
      ]
    },
    {
      "cell_type": "code",
      "source": [
        "%%sql\n",
        "\n",
        "-- Pergunta de Negócio 2: Qual é a distribuição de faixa etária dos participantes?\n",
        "SELECT faixa_idade, COUNT(*) AS total_pessoas\n",
        "FROM datahackers\n",
        "GROUP BY faixa_idade;"
      ],
      "metadata": {
        "colab": {
          "base_uri": "https://localhost:8080/",
          "height": 263
        },
        "id": "aJXPuD9aK2n2",
        "outputId": "d3893f2e-23f3-4d6c-bd06-ba217a697d7f"
      },
      "execution_count": null,
      "outputs": [
        {
          "output_type": "stream",
          "name": "stdout",
          "text": [
            " * sqlite:///datahackers.db\n",
            "Done.\n"
          ]
        },
        {
          "output_type": "execute_result",
          "data": {
            "text/plain": [
              "[('17-21', 152),\n",
              " ('22-24', 449),\n",
              " ('25-29', 1398),\n",
              " ('30-34', 1095),\n",
              " ('35-39', 598),\n",
              " ('40-44', 277),\n",
              " ('45-49', 145),\n",
              " ('50-54', 89),\n",
              " ('55+', 68)]"
            ],
            "text/html": [
              "<table>\n",
              "    <thead>\n",
              "        <tr>\n",
              "            <th>faixa_idade</th>\n",
              "            <th>total_pessoas</th>\n",
              "        </tr>\n",
              "    </thead>\n",
              "    <tbody>\n",
              "        <tr>\n",
              "            <td>17-21</td>\n",
              "            <td>152</td>\n",
              "        </tr>\n",
              "        <tr>\n",
              "            <td>22-24</td>\n",
              "            <td>449</td>\n",
              "        </tr>\n",
              "        <tr>\n",
              "            <td>25-29</td>\n",
              "            <td>1398</td>\n",
              "        </tr>\n",
              "        <tr>\n",
              "            <td>30-34</td>\n",
              "            <td>1095</td>\n",
              "        </tr>\n",
              "        <tr>\n",
              "            <td>35-39</td>\n",
              "            <td>598</td>\n",
              "        </tr>\n",
              "        <tr>\n",
              "            <td>40-44</td>\n",
              "            <td>277</td>\n",
              "        </tr>\n",
              "        <tr>\n",
              "            <td>45-49</td>\n",
              "            <td>145</td>\n",
              "        </tr>\n",
              "        <tr>\n",
              "            <td>50-54</td>\n",
              "            <td>89</td>\n",
              "        </tr>\n",
              "        <tr>\n",
              "            <td>55+</td>\n",
              "            <td>68</td>\n",
              "        </tr>\n",
              "    </tbody>\n",
              "</table>"
            ]
          },
          "metadata": {},
          "execution_count": 20
        }
      ]
    },
    {
      "cell_type": "code",
      "source": [
        "%%sql\n",
        "\n",
        "--Pergunta de Negócio 3: Quantas pessoas têm alguma deficiência (PcD)?\n",
        "SELECT COUNT(*) AS total_pcd\n",
        "FROM datahackers\n",
        "WHERE pcd = 'Sim';"
      ],
      "metadata": {
        "colab": {
          "base_uri": "https://localhost:8080/",
          "height": 95
        },
        "id": "FNME0bMLK5Tf",
        "outputId": "ef8a7d7f-90e6-4e10-e25d-452f7ed83229"
      },
      "execution_count": null,
      "outputs": [
        {
          "output_type": "stream",
          "name": "stdout",
          "text": [
            " * sqlite:///datahackers.db\n",
            "Done.\n"
          ]
        },
        {
          "output_type": "execute_result",
          "data": {
            "text/plain": [
              "[(54,)]"
            ],
            "text/html": [
              "<table>\n",
              "    <thead>\n",
              "        <tr>\n",
              "            <th>total_pcd</th>\n",
              "        </tr>\n",
              "    </thead>\n",
              "    <tbody>\n",
              "        <tr>\n",
              "            <td>54</td>\n",
              "        </tr>\n",
              "    </tbody>\n",
              "</table>"
            ]
          },
          "metadata": {},
          "execution_count": 21
        }
      ]
    },
    {
      "cell_type": "code",
      "source": [
        "%%sql\n",
        "\n",
        "-- Pergunta de Negócio 4: Qual é a distribuição de raça/etnia dos participantes?\n",
        "SELECT cor_raca_etnia, COUNT(*) AS total_pessoas\n",
        "FROM datahackers\n",
        "GROUP BY cor_raca_etnia;"
      ],
      "metadata": {
        "colab": {
          "base_uri": "https://localhost:8080/",
          "height": 221
        },
        "id": "UtQMju9IK6D2",
        "outputId": "15ae60f5-f274-49e8-cd40-e1b8aaaa51f9"
      },
      "execution_count": null,
      "outputs": [
        {
          "output_type": "stream",
          "name": "stdout",
          "text": [
            " * sqlite:///datahackers.db\n",
            "Done.\n"
          ]
        },
        {
          "output_type": "execute_result",
          "data": {
            "text/plain": [
              "[('Amarela', 128),\n",
              " ('Branca', 2744),\n",
              " ('Indígena', 11),\n",
              " ('Outra', 17),\n",
              " ('Parda', 1054),\n",
              " ('Prefiro não informar', 26),\n",
              " ('Preta', 291)]"
            ],
            "text/html": [
              "<table>\n",
              "    <thead>\n",
              "        <tr>\n",
              "            <th>cor_raca_etnia</th>\n",
              "            <th>total_pessoas</th>\n",
              "        </tr>\n",
              "    </thead>\n",
              "    <tbody>\n",
              "        <tr>\n",
              "            <td>Amarela</td>\n",
              "            <td>128</td>\n",
              "        </tr>\n",
              "        <tr>\n",
              "            <td>Branca</td>\n",
              "            <td>2744</td>\n",
              "        </tr>\n",
              "        <tr>\n",
              "            <td>Indígena</td>\n",
              "            <td>11</td>\n",
              "        </tr>\n",
              "        <tr>\n",
              "            <td>Outra</td>\n",
              "            <td>17</td>\n",
              "        </tr>\n",
              "        <tr>\n",
              "            <td>Parda</td>\n",
              "            <td>1054</td>\n",
              "        </tr>\n",
              "        <tr>\n",
              "            <td>Prefiro não informar</td>\n",
              "            <td>26</td>\n",
              "        </tr>\n",
              "        <tr>\n",
              "            <td>Preta</td>\n",
              "            <td>291</td>\n",
              "        </tr>\n",
              "    </tbody>\n",
              "</table>"
            ]
          },
          "metadata": {},
          "execution_count": 22
        }
      ]
    },
    {
      "cell_type": "code",
      "source": [
        "%%sql\n",
        "\n",
        "-- Pergunta de Negócio 5: Qual é a distribuição de nível de ensino dos participantes?\n",
        "SELECT nivel_ensino, COUNT(*) AS total_pessoas\n",
        "FROM datahackers\n",
        "GROUP BY nivel_ensino;"
      ],
      "metadata": {
        "colab": {
          "base_uri": "https://localhost:8080/",
          "height": 221
        },
        "id": "CE-DmZlxK6nO",
        "outputId": "465767e7-5e24-4dea-b72c-dba50732959a"
      },
      "execution_count": null,
      "outputs": [
        {
          "output_type": "stream",
          "name": "stdout",
          "text": [
            " * sqlite:///datahackers.db\n",
            "Done.\n"
          ]
        },
        {
          "output_type": "execute_result",
          "data": {
            "text/plain": [
              "[('Doutorado ou Phd', 191),\n",
              " ('Estudante de Graduação', 613),\n",
              " ('Graduação/Bacharelado', 1510),\n",
              " ('Mestrado', 521),\n",
              " ('Não tenho graduação formal', 110),\n",
              " ('Prefiro não informar', 12),\n",
              " ('Pós-graduação', 1314)]"
            ],
            "text/html": [
              "<table>\n",
              "    <thead>\n",
              "        <tr>\n",
              "            <th>nivel_ensino</th>\n",
              "            <th>total_pessoas</th>\n",
              "        </tr>\n",
              "    </thead>\n",
              "    <tbody>\n",
              "        <tr>\n",
              "            <td>Doutorado ou Phd</td>\n",
              "            <td>191</td>\n",
              "        </tr>\n",
              "        <tr>\n",
              "            <td>Estudante de Graduação</td>\n",
              "            <td>613</td>\n",
              "        </tr>\n",
              "        <tr>\n",
              "            <td>Graduação/Bacharelado</td>\n",
              "            <td>1510</td>\n",
              "        </tr>\n",
              "        <tr>\n",
              "            <td>Mestrado</td>\n",
              "            <td>521</td>\n",
              "        </tr>\n",
              "        <tr>\n",
              "            <td>Não tenho graduação formal</td>\n",
              "            <td>110</td>\n",
              "        </tr>\n",
              "        <tr>\n",
              "            <td>Prefiro não informar</td>\n",
              "            <td>12</td>\n",
              "        </tr>\n",
              "        <tr>\n",
              "            <td>Pós-graduação</td>\n",
              "            <td>1314</td>\n",
              "        </tr>\n",
              "    </tbody>\n",
              "</table>"
            ]
          },
          "metadata": {},
          "execution_count": 23
        }
      ]
    }
  ]
}